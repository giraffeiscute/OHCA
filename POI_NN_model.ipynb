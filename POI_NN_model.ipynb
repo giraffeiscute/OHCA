{
 "cells": [
  {
   "cell_type": "code",
   "execution_count": 12,
   "metadata": {},
   "outputs": [],
   "source": [
    "import pandas as pd\n",
    "import numpy as np\n",
    "import matplotlib.pyplot as plt\n",
    "import torch\n",
    "import torch.nn as nn\n",
    "import torch.nn.functional as F\n",
    "import torch.optim as optim\n",
    "import torch.autograd as autograd\n",
    "from tqdm import tqdm\n",
    "import seaborn as sns\n",
    "import re\n",
    "import datetime\n",
    "import os\n",
    "import random\n",
    "import h3"
   ]
  },
  {
   "cell_type": "code",
   "execution_count": 13,
   "metadata": {},
   "outputs": [
    {
     "data": {
      "text/html": [
       "<div>\n",
       "<style scoped>\n",
       "    .dataframe tbody tr th:only-of-type {\n",
       "        vertical-align: middle;\n",
       "    }\n",
       "\n",
       "    .dataframe tbody tr th {\n",
       "        vertical-align: top;\n",
       "    }\n",
       "\n",
       "    .dataframe thead th {\n",
       "        text-align: right;\n",
       "    }\n",
       "</style>\n",
       "<table border=\"1\" class=\"dataframe\">\n",
       "  <thead>\n",
       "    <tr style=\"text-align: right;\">\n",
       "      <th></th>\n",
       "      <th>id</th>\n",
       "      <th>place_of_worship</th>\n",
       "      <th>grave_yard</th>\n",
       "      <th>school</th>\n",
       "      <th>post_office</th>\n",
       "      <th>childcare</th>\n",
       "      <th>university</th>\n",
       "      <th>courthouse</th>\n",
       "      <th>fire_station</th>\n",
       "      <th>library</th>\n",
       "      <th>...</th>\n",
       "      <th>warehouse</th>\n",
       "      <th>sports_centre</th>\n",
       "      <th>detached</th>\n",
       "      <th>boathouse</th>\n",
       "      <th>barn</th>\n",
       "      <th>riding_hall</th>\n",
       "      <th>construction</th>\n",
       "      <th>ship</th>\n",
       "      <th>ruins</th>\n",
       "      <th>ohca</th>\n",
       "    </tr>\n",
       "  </thead>\n",
       "  <tbody>\n",
       "    <tr>\n",
       "      <th>0</th>\n",
       "      <td>872af0424ffffff</td>\n",
       "      <td>0</td>\n",
       "      <td>0</td>\n",
       "      <td>0</td>\n",
       "      <td>0</td>\n",
       "      <td>0</td>\n",
       "      <td>0</td>\n",
       "      <td>0</td>\n",
       "      <td>0</td>\n",
       "      <td>0</td>\n",
       "      <td>...</td>\n",
       "      <td>0</td>\n",
       "      <td>0</td>\n",
       "      <td>0</td>\n",
       "      <td>0</td>\n",
       "      <td>0</td>\n",
       "      <td>0</td>\n",
       "      <td>0</td>\n",
       "      <td>0</td>\n",
       "      <td>0</td>\n",
       "      <td>1</td>\n",
       "    </tr>\n",
       "    <tr>\n",
       "      <th>1</th>\n",
       "      <td>872af0425ffffff</td>\n",
       "      <td>0</td>\n",
       "      <td>0</td>\n",
       "      <td>0</td>\n",
       "      <td>0</td>\n",
       "      <td>0</td>\n",
       "      <td>0</td>\n",
       "      <td>0</td>\n",
       "      <td>0</td>\n",
       "      <td>0</td>\n",
       "      <td>...</td>\n",
       "      <td>0</td>\n",
       "      <td>0</td>\n",
       "      <td>0</td>\n",
       "      <td>0</td>\n",
       "      <td>0</td>\n",
       "      <td>0</td>\n",
       "      <td>0</td>\n",
       "      <td>0</td>\n",
       "      <td>0</td>\n",
       "      <td>1</td>\n",
       "    </tr>\n",
       "    <tr>\n",
       "      <th>2</th>\n",
       "      <td>872af0426ffffff</td>\n",
       "      <td>0</td>\n",
       "      <td>0</td>\n",
       "      <td>0</td>\n",
       "      <td>0</td>\n",
       "      <td>0</td>\n",
       "      <td>0</td>\n",
       "      <td>0</td>\n",
       "      <td>0</td>\n",
       "      <td>0</td>\n",
       "      <td>...</td>\n",
       "      <td>0</td>\n",
       "      <td>0</td>\n",
       "      <td>0</td>\n",
       "      <td>0</td>\n",
       "      <td>0</td>\n",
       "      <td>0</td>\n",
       "      <td>0</td>\n",
       "      <td>0</td>\n",
       "      <td>0</td>\n",
       "      <td>2</td>\n",
       "    </tr>\n",
       "    <tr>\n",
       "      <th>3</th>\n",
       "      <td>872af0500ffffff</td>\n",
       "      <td>2</td>\n",
       "      <td>0</td>\n",
       "      <td>0</td>\n",
       "      <td>0</td>\n",
       "      <td>0</td>\n",
       "      <td>0</td>\n",
       "      <td>0</td>\n",
       "      <td>0</td>\n",
       "      <td>0</td>\n",
       "      <td>...</td>\n",
       "      <td>0</td>\n",
       "      <td>0</td>\n",
       "      <td>0</td>\n",
       "      <td>0</td>\n",
       "      <td>0</td>\n",
       "      <td>0</td>\n",
       "      <td>0</td>\n",
       "      <td>0</td>\n",
       "      <td>0</td>\n",
       "      <td>0</td>\n",
       "    </tr>\n",
       "    <tr>\n",
       "      <th>4</th>\n",
       "      <td>872af0501ffffff</td>\n",
       "      <td>0</td>\n",
       "      <td>0</td>\n",
       "      <td>1</td>\n",
       "      <td>0</td>\n",
       "      <td>0</td>\n",
       "      <td>0</td>\n",
       "      <td>0</td>\n",
       "      <td>2</td>\n",
       "      <td>0</td>\n",
       "      <td>...</td>\n",
       "      <td>0</td>\n",
       "      <td>0</td>\n",
       "      <td>0</td>\n",
       "      <td>0</td>\n",
       "      <td>0</td>\n",
       "      <td>0</td>\n",
       "      <td>0</td>\n",
       "      <td>0</td>\n",
       "      <td>0</td>\n",
       "      <td>0</td>\n",
       "    </tr>\n",
       "    <tr>\n",
       "      <th>...</th>\n",
       "      <td>...</td>\n",
       "      <td>...</td>\n",
       "      <td>...</td>\n",
       "      <td>...</td>\n",
       "      <td>...</td>\n",
       "      <td>...</td>\n",
       "      <td>...</td>\n",
       "      <td>...</td>\n",
       "      <td>...</td>\n",
       "      <td>...</td>\n",
       "      <td>...</td>\n",
       "      <td>...</td>\n",
       "      <td>...</td>\n",
       "      <td>...</td>\n",
       "      <td>...</td>\n",
       "      <td>...</td>\n",
       "      <td>...</td>\n",
       "      <td>...</td>\n",
       "      <td>...</td>\n",
       "      <td>...</td>\n",
       "      <td>...</td>\n",
       "    </tr>\n",
       "    <tr>\n",
       "      <th>172</th>\n",
       "      <td>872af6373ffffff</td>\n",
       "      <td>0</td>\n",
       "      <td>0</td>\n",
       "      <td>0</td>\n",
       "      <td>0</td>\n",
       "      <td>0</td>\n",
       "      <td>0</td>\n",
       "      <td>0</td>\n",
       "      <td>0</td>\n",
       "      <td>0</td>\n",
       "      <td>...</td>\n",
       "      <td>0</td>\n",
       "      <td>0</td>\n",
       "      <td>0</td>\n",
       "      <td>0</td>\n",
       "      <td>0</td>\n",
       "      <td>0</td>\n",
       "      <td>0</td>\n",
       "      <td>0</td>\n",
       "      <td>0</td>\n",
       "      <td>2</td>\n",
       "    </tr>\n",
       "    <tr>\n",
       "      <th>173</th>\n",
       "      <td>872af6375ffffff</td>\n",
       "      <td>1</td>\n",
       "      <td>0</td>\n",
       "      <td>0</td>\n",
       "      <td>0</td>\n",
       "      <td>0</td>\n",
       "      <td>0</td>\n",
       "      <td>0</td>\n",
       "      <td>1</td>\n",
       "      <td>0</td>\n",
       "      <td>...</td>\n",
       "      <td>0</td>\n",
       "      <td>0</td>\n",
       "      <td>0</td>\n",
       "      <td>0</td>\n",
       "      <td>0</td>\n",
       "      <td>0</td>\n",
       "      <td>0</td>\n",
       "      <td>0</td>\n",
       "      <td>0</td>\n",
       "      <td>20</td>\n",
       "    </tr>\n",
       "    <tr>\n",
       "      <th>174</th>\n",
       "      <td>872af6acaffffff</td>\n",
       "      <td>0</td>\n",
       "      <td>0</td>\n",
       "      <td>0</td>\n",
       "      <td>0</td>\n",
       "      <td>1</td>\n",
       "      <td>0</td>\n",
       "      <td>0</td>\n",
       "      <td>0</td>\n",
       "      <td>0</td>\n",
       "      <td>...</td>\n",
       "      <td>0</td>\n",
       "      <td>0</td>\n",
       "      <td>0</td>\n",
       "      <td>0</td>\n",
       "      <td>0</td>\n",
       "      <td>0</td>\n",
       "      <td>0</td>\n",
       "      <td>0</td>\n",
       "      <td>1</td>\n",
       "      <td>1</td>\n",
       "    </tr>\n",
       "    <tr>\n",
       "      <th>175</th>\n",
       "      <td>872af6ad9ffffff</td>\n",
       "      <td>2</td>\n",
       "      <td>0</td>\n",
       "      <td>0</td>\n",
       "      <td>0</td>\n",
       "      <td>0</td>\n",
       "      <td>0</td>\n",
       "      <td>0</td>\n",
       "      <td>1</td>\n",
       "      <td>0</td>\n",
       "      <td>...</td>\n",
       "      <td>0</td>\n",
       "      <td>0</td>\n",
       "      <td>0</td>\n",
       "      <td>0</td>\n",
       "      <td>0</td>\n",
       "      <td>0</td>\n",
       "      <td>0</td>\n",
       "      <td>1</td>\n",
       "      <td>0</td>\n",
       "      <td>2</td>\n",
       "    </tr>\n",
       "    <tr>\n",
       "      <th>176</th>\n",
       "      <td>872af6adbffffff</td>\n",
       "      <td>0</td>\n",
       "      <td>0</td>\n",
       "      <td>0</td>\n",
       "      <td>0</td>\n",
       "      <td>0</td>\n",
       "      <td>0</td>\n",
       "      <td>0</td>\n",
       "      <td>0</td>\n",
       "      <td>0</td>\n",
       "      <td>...</td>\n",
       "      <td>0</td>\n",
       "      <td>0</td>\n",
       "      <td>0</td>\n",
       "      <td>0</td>\n",
       "      <td>0</td>\n",
       "      <td>0</td>\n",
       "      <td>0</td>\n",
       "      <td>0</td>\n",
       "      <td>0</td>\n",
       "      <td>0</td>\n",
       "    </tr>\n",
       "  </tbody>\n",
       "</table>\n",
       "<p>177 rows × 117 columns</p>\n",
       "</div>"
      ],
      "text/plain": [
       "                  id  place_of_worship  grave_yard  school  post_office  \\\n",
       "0    872af0424ffffff                 0           0       0            0   \n",
       "1    872af0425ffffff                 0           0       0            0   \n",
       "2    872af0426ffffff                 0           0       0            0   \n",
       "3    872af0500ffffff                 2           0       0            0   \n",
       "4    872af0501ffffff                 0           0       1            0   \n",
       "..               ...               ...         ...     ...          ...   \n",
       "172  872af6373ffffff                 0           0       0            0   \n",
       "173  872af6375ffffff                 1           0       0            0   \n",
       "174  872af6acaffffff                 0           0       0            0   \n",
       "175  872af6ad9ffffff                 2           0       0            0   \n",
       "176  872af6adbffffff                 0           0       0            0   \n",
       "\n",
       "     childcare  university  courthouse  fire_station  library  ...  warehouse  \\\n",
       "0            0           0           0             0        0  ...          0   \n",
       "1            0           0           0             0        0  ...          0   \n",
       "2            0           0           0             0        0  ...          0   \n",
       "3            0           0           0             0        0  ...          0   \n",
       "4            0           0           0             2        0  ...          0   \n",
       "..         ...         ...         ...           ...      ...  ...        ...   \n",
       "172          0           0           0             0        0  ...          0   \n",
       "173          0           0           0             1        0  ...          0   \n",
       "174          1           0           0             0        0  ...          0   \n",
       "175          0           0           0             1        0  ...          0   \n",
       "176          0           0           0             0        0  ...          0   \n",
       "\n",
       "     sports_centre  detached  boathouse  barn  riding_hall  construction  \\\n",
       "0                0         0          0     0            0             0   \n",
       "1                0         0          0     0            0             0   \n",
       "2                0         0          0     0            0             0   \n",
       "3                0         0          0     0            0             0   \n",
       "4                0         0          0     0            0             0   \n",
       "..             ...       ...        ...   ...          ...           ...   \n",
       "172              0         0          0     0            0             0   \n",
       "173              0         0          0     0            0             0   \n",
       "174              0         0          0     0            0             0   \n",
       "175              0         0          0     0            0             0   \n",
       "176              0         0          0     0            0             0   \n",
       "\n",
       "     ship  ruins  ohca  \n",
       "0       0      0     1  \n",
       "1       0      0     1  \n",
       "2       0      0     2  \n",
       "3       0      0     0  \n",
       "4       0      0     0  \n",
       "..    ...    ...   ...  \n",
       "172     0      0     2  \n",
       "173     0      0    20  \n",
       "174     0      1     1  \n",
       "175     1      0     2  \n",
       "176     0      0     0  \n",
       "\n",
       "[177 rows x 117 columns]"
      ]
     },
     "execution_count": 13,
     "metadata": {},
     "output_type": "execute_result"
    }
   ],
   "source": [
    "h3_l7_df = pd.read_csv('h3_l7_df_new.csv')\n",
    "h3_l7_df"
   ]
  },
  {
   "cell_type": "code",
   "execution_count": 14,
   "metadata": {},
   "outputs": [],
   "source": [
    "# 設定plt環境\n",
    "os.environ['KMP_DUPLICATE_LIB_OK']='True'"
   ]
  },
  {
   "cell_type": "code",
   "execution_count": 15,
   "metadata": {},
   "outputs": [],
   "source": [
    "# # 設定訓練、驗證和測試集的比例\n",
    "# train_proportion = 0.7  \n",
    "\n",
    "# train_size = int(h3_l7_df.shape[0]*train_proportion)\n",
    "\n",
    "# seed = 9456 #666\n",
    "# torch.manual_seed(seed)\n",
    "# np.random.seed(seed)\n",
    "# random.seed(seed)\n",
    "\n",
    "# # h3_l7_id = np.random.choice(spatial_data.shape[0], spatial_data.shape[0])\n",
    "# # spatial_data = spatial_data[h3_l7_id]\n",
    "# # train_spatial_data = spatial_data[:train_size, :]\n",
    "# # test_spatial_data = spatial_data[train_size:, :]\n",
    "\n",
    "# # 隨機打亂 DataFrame\n",
    "# shuffled_h3_l7_df = h3_l7_df.sample(frac=1, random_state=seed).reset_index(drop=True)\n",
    "\n",
    "# # 分割訓練集和測試集\n",
    "# train_h3_l7_df = shuffled_h3_l7_df.iloc[:train_size]\n",
    "# test_h3_l7_df = shuffled_h3_l7_df.iloc[train_size:]"
   ]
  },
  {
   "cell_type": "code",
   "execution_count": 16,
   "metadata": {},
   "outputs": [],
   "source": [
    "# # 將 h3_l7_df 資料框中的 'id' 列移除，僅保留數據進行正規化\n",
    "# shuffled_spatial_data = shuffled_h3_l7_df.drop('id', axis=1).drop('police', axis=1)\n",
    "\n",
    "\n",
    "# # # # 對數據進行正規化：將每個數據列的最小值調整為 0，最大值調整為 1\n",
    "# normalized_spatial_data = (shuffled_spatial_data - shuffled_spatial_data.min()) / (shuffled_spatial_data.max() - shuffled_spatial_data.min())\n",
    "\n",
    "# #設定OHCA正規化反函數 方便把預測結果返回原本scale\n",
    "# ohca_reguli_inverse = (h3_l7_df.ohca.max()-h3_l7_df.ohca.min()) + h3_l7_df.ohca.min()\n",
    "\n",
    "# # 將 DataFrame 轉換為 numpy array，並設定數據類型為 np.float64\n",
    "# spatial_data = np.array(normalized_spatial_data).astype(np.float64)\n",
    "\n",
    "\n",
    "# train_spatial_data = spatial_data[:train_size, :]\n",
    "# test_spatial_data = spatial_data[train_size:, :]\n"
   ]
  },
  {
   "cell_type": "code",
   "execution_count": 17,
   "metadata": {},
   "outputs": [],
   "source": [
    "train_index=[]\n",
    "test_index=[]\n",
    "for i in range(0,h3_l7_df.shape[0]):\n",
    "    geo_location = h3.h3_to_geo(h3_l7_df.iloc[i]['id'])\n",
    "\n",
    "    if (geo_location[1]) > (-76.05): #把經度大於-76.05的 當train (東邊是train)\n",
    "        train_index.append(i)\n",
    "    else:\n",
    "        test_index.append(i)\n",
    "\n",
    "# 分割訓練集和測試集\n",
    "train_h3_l7_df = h3_l7_df.iloc[train_index]\n",
    "test_h3_l7_df = h3_l7_df.iloc[test_index]"
   ]
  },
  {
   "cell_type": "code",
   "execution_count": 18,
   "metadata": {},
   "outputs": [
    {
     "name": "stdout",
     "output_type": "stream",
     "text": [
      "83\n",
      "94\n"
     ]
    }
   ],
   "source": [
    "# 將 h3_l7_df 資料框中的 'id' 列移除，僅保留數據進行正規化\n",
    "h3_spatial_data = h3_l7_df.drop('id', axis=1)\n",
    "\n",
    "\n",
    "# # # 對數據進行正規化：將每個數據列的最小值調整為 0，最大值調整為 1\n",
    "normalized_spatial_data = (h3_spatial_data - h3_spatial_data.min()) / (h3_spatial_data.max() - h3_spatial_data.min())\n",
    "\n",
    "#設定OHCA正規化反函數 方便把預測結果返回原本scale\n",
    "ohca_reguli_inverse = (h3_l7_df.ohca.max()-h3_l7_df.ohca.min()) + h3_l7_df.ohca.min()\n",
    "\n",
    "# 將 DataFrame 轉換為 numpy array，並設定數據類型為 np.float64\n",
    "spatial_data = np.array(normalized_spatial_data).astype(np.float64)\n",
    "\n",
    "\n",
    "train_spatial_data = spatial_data[train_index]\n",
    "test_spatial_data = spatial_data[test_index]\n",
    "\n",
    "print(len(train_index))\n",
    "print(len(test_index))\n"
   ]
  },
  {
   "cell_type": "code",
   "execution_count": 19,
   "metadata": {},
   "outputs": [
    {
     "data": {
      "text/plain": [
       "Index(['place_of_worship', 'grave_yard', 'school', 'post_office', 'childcare',\n",
       "       'university', 'courthouse', 'fire_station', 'library', 'police',\n",
       "       ...\n",
       "       'cabin', 'warehouse', 'sports_centre', 'detached', 'boathouse', 'barn',\n",
       "       'riding_hall', 'construction', 'ship', 'ruins'],\n",
       "      dtype='object', length=115)"
      ]
     },
     "execution_count": 19,
     "metadata": {},
     "output_type": "execute_result"
    }
   ],
   "source": [
    "a = h3_l7_df.drop('id', axis=1).drop('ohca',axis = 1)\n",
    "a.columns"
   ]
  },
  {
   "cell_type": "code",
   "execution_count": 20,
   "metadata": {},
   "outputs": [],
   "source": [
    "class Regressor(nn.Module):\n",
    "    \"\"\"\n",
    "    用於迴歸任務的神經網絡模型 Regressor。\n",
    "    \n",
    "    結構:\n",
    "    - 兩層隱藏層，並使用 ReLU 激活函數\n",
    "    - 最後一層為線性層，不使用激活函數（適用於迴歸）\n",
    "    \"\"\"\n",
    "    def __init__(self, input_size=2, hidden_size=32, output_size=1):\n",
    "        super().__init__()\n",
    "        # 定義三層全連接層\n",
    "        self.fc1 = nn.Linear(input_size, hidden_size)     # 第一層：輸入層到隱藏層\n",
    "        self.fc2 = nn.Linear(hidden_size, hidden_size)    # 第二層：隱藏層到隱藏層\n",
    "        self.fc3 = nn.Linear(hidden_size, output_size)    # 第三層：隱藏層到輸出層\n",
    "\n",
    "        # 初始化權重和偏置\n",
    "        nn.init.normal_(self.fc1.weight, std=0.02)\n",
    "        nn.init.constant_(self.fc1.bias, 0)\n",
    "        nn.init.normal_(self.fc2.weight, std=0.02)\n",
    "        nn.init.constant_(self.fc2.bias, 0)\n",
    "        nn.init.normal_(self.fc3.weight, std=0.02)\n",
    "        nn.init.constant_(self.fc3.bias, 0)\n",
    "        \n",
    "    def forward(self, input):\n",
    "        # 前向傳播過程\n",
    "        output = F.relu(self.fc1(input))  # 第一層 + ReLU 激活\n",
    "        output = F.relu(self.fc2(output)) # 第二層 + ReLU 激活\n",
    "        output = self.fc3(output)         # 第三層（不使用激活函數）\n",
    "        return output"
   ]
  },
  {
   "cell_type": "code",
   "execution_count": 21,
   "metadata": {},
   "outputs": [
    {
     "name": "stderr",
     "output_type": "stream",
     "text": [
      "100%|██████████| 30000/30000 [01:22<00:00, 363.45it/s]\n"
     ]
    }
   ],
   "source": [
    "window_size = 1\n",
    "seed = 123 #7890\n",
    "torch.manual_seed(seed)\n",
    "np.random.seed(seed)\n",
    "\n",
    "def train_reg(spatial_data, \n",
    "              s_net,\n",
    "              s_net_optim, \n",
    "              window_size, iter_num=5000):\n",
    "    \"\"\"\n",
    "    訓練 s_net  網絡來預測 spatial_data 中的數據。\n",
    "    \n",
    "    參數:\n",
    "    - spatial_data: numpy array，包含訓練數據\n",
    "    - s_net: 神經網絡模型\n",
    "    - s_net_optim: 優化器\n",
    "    - window_size: 每次迭代的隨機取樣大小\n",
    "    - iter_num: 訓練迭代次數\n",
    "    \n",
    "    返回:\n",
    "    - loss_array: 每次迭代的損失值\n",
    "    - t_fea_array, s_fea_array: 用於存儲特徵的暫時性陣列（目前未使用）\n",
    "    \"\"\"\n",
    "\n",
    "    loss_array = []     # 儲存每次迭代的損失\n",
    "    t_fea_array = []    # 預留用於儲存暫時性特徵的空列表\n",
    "    s_fea_array = []    # 預留用於儲存暫時性特徵的空列表\n",
    "\n",
    "    for _ in tqdm(range(iter_num)):\n",
    "        \n",
    "        # 隨機選擇一組數據索引\n",
    "        h3_l7_id = np.random.choice(spatial_data.shape[0] - 1, window_size)\n",
    "\n",
    "\n",
    "        # 提取目標變數（即輸入的最後一列數據）並轉為 Tensor\n",
    "        ohca = spatial_data[h3_l7_id, -1].reshape(-1, 1)\n",
    "        ohca = torch.autograd.Variable(torch.FloatTensor(ohca))\n",
    "\n",
    "        # p_pred 用於預測目標變數\n",
    "        p_pred = s_net(torch.autograd.Variable(torch.FloatTensor(spatial_data[h3_l7_id, :-1]))).reshape(-1, 1)\n",
    "\n",
    "        # 定義均方誤差損失\n",
    "        mseloss = torch.nn.MSELoss(reduction='sum')\n",
    "        loss = mseloss(p_pred, ohca)\n",
    "        \n",
    "        # 清空前一次計算的梯度\n",
    "        s_net_optim.zero_grad()\n",
    "        \n",
    "        \n",
    "        # 計算損失的梯度\n",
    "        autograd.backward(loss)\n",
    "\n",
    "        # 更新神經網絡參數\n",
    "        s_net_optim.step()\n",
    "        \n",
    "        # 儲存損失值\n",
    "        loss_array.append(loss.detach().cpu().numpy())\n",
    "\n",
    "    return loss_array, t_fea_array, s_fea_array\n",
    "\n",
    "# 初始化模型和優化器\n",
    "s_net = Regressor(input_size=spatial_data.shape[1] - 1, hidden_size=spatial_data.shape[1] * 2, output_size=1)\n",
    "s_net_optim = optim.Adam(s_net.parameters(), lr=1e-3, weight_decay=1e-5)\n",
    "\n",
    "iter_num=30000\n",
    "# 執行訓練過程\n",
    "loss_array, t_fea_array, s_fea_array = train_reg(train_spatial_data, s_net,\n",
    "                                                 s_net_optim,\n",
    "                                                 window_size, iter_num)"
   ]
  },
  {
   "cell_type": "code",
   "execution_count": 22,
   "metadata": {},
   "outputs": [
    {
     "data": {
      "text/plain": [
       "[<matplotlib.lines.Line2D at 0x1ac95c15910>]"
      ]
     },
     "execution_count": 22,
     "metadata": {},
     "output_type": "execute_result"
    },
    {
     "data": {
      "image/png": "[encoded data removed]",
      "text/plain": [
       "<Figure size 640x480 with 1 Axes>"
      ]
     },
     "metadata": {},
     "output_type": "display_data"
    }
   ],
   "source": [
    "plt.plot(np.array(loss_array).reshape(iter_num))"
   ]
  },
  {
   "cell_type": "code",
   "execution_count": 23,
   "metadata": {},
   "outputs": [],
   "source": [
    "y_head_train = s_net(torch.autograd.Variable(torch.FloatTensor(train_spatial_data[:, :-1]))).detach().numpy()*ohca_reguli_inverse\n",
    "y_train = train_spatial_data[:, -1].reshape(-1, 1)*ohca_reguli_inverse\n",
    "y_head_test = s_net(torch.autograd.Variable(torch.FloatTensor(test_spatial_data[:, :-1]))).detach().numpy()*ohca_reguli_inverse\n",
    "y_test = test_spatial_data[:, -1].reshape(-1, 1)*ohca_reguli_inverse\n"
   ]
  },
  {
   "cell_type": "code",
   "execution_count": 24,
   "metadata": {},
   "outputs": [
    {
     "data": {
      "text/plain": [
       "Text(0, 0.5, 'Reality')"
      ]
     },
     "execution_count": 24,
     "metadata": {},
     "output_type": "execute_result"
    },
    {
     "data": {
      "image/png": "[encoded data removed]",
      "text/plain": [
       "<Figure size 640x480 with 1 Axes>"
      ]
     },
     "metadata": {},
     "output_type": "display_data"
    }
   ],
   "source": [
    "plt.scatter(y_head_train,\n",
    "            y_train,\n",
    "            s = 5)\n",
    "plt.plot([0, 73], [0, 73])\n",
    "plt.title('Train set')\n",
    "plt.xlabel('Prediction')\n",
    "plt.ylabel('Reality')"
   ]
  },
  {
   "cell_type": "code",
   "execution_count": 28,
   "metadata": {},
   "outputs": [
    {
     "name": "stderr",
     "output_type": "stream",
     "text": [
      "C:\\Users\\Yuan\\AppData\\Local\\Temp\\ipykernel_15664\\3528617463.py:2: RuntimeWarning: divide by zero encountered in divide\n",
      "  (y_head_train- y_train)/train_spatial_data[:, -1].reshape(-1, 1)/ohca_reguli_inverse,\n"
     ]
    },
    {
     "data": {
      "text/plain": [
       "Text(0, 0.5, 'Number of OHCA')"
      ]
     },
     "execution_count": 28,
     "metadata": {},
     "output_type": "execute_result"
    },
    {
     "data": {
      "image/png": "[encoded data removed]",
      "text/plain": [
       "<Figure size 640x480 with 1 Axes>"
      ]
     },
     "metadata": {},
     "output_type": "display_data"
    }
   ],
   "source": [
    "plt.scatter(np.arange(train_spatial_data.shape[0]),\n",
    "            (y_head_train- y_train)/train_spatial_data[:, -1].reshape(-1, 1)/ohca_reguli_inverse,\n",
    "            s = 3)\n",
    "plt.title('train Prediction Error Precentage')\n",
    "plt.xlabel('Index of regions')\n",
    "plt.ylabel('Number of OHCA')"
   ]
  },
  {
   "cell_type": "code",
   "execution_count": 29,
   "metadata": {},
   "outputs": [
    {
     "data": {
      "text/plain": [
       "Text(0, 0.5, 'Reality')"
      ]
     },
     "execution_count": 29,
     "metadata": {},
     "output_type": "execute_result"
    },
    {
     "data": {
      "image/png": "[encoded data removed]",
      "text/plain": [
       "<Figure size 640x480 with 1 Axes>"
      ]
     },
     "metadata": {},
     "output_type": "display_data"
    }
   ],
   "source": [
    "plt.scatter(y_head_test,\n",
    "            y_test,\n",
    "            s = 5)\n",
    "plt.plot([0, 73], [0, 73])\n",
    "plt.title('Test set')\n",
    "plt.xlabel('Prediction')\n",
    "plt.ylabel('Reality')"
   ]
  },
  {
   "cell_type": "code",
   "execution_count": 30,
   "metadata": {},
   "outputs": [
    {
     "data": {
      "text/plain": [
       "Text(0, 0.5, 'Number of OHCA')"
      ]
     },
     "execution_count": 30,
     "metadata": {},
     "output_type": "execute_result"
    },
    {
     "data": {
      "image/png": "[encoded data removed]",
      "text/plain": [
       "<Figure size 640x480 with 1 Axes>"
      ]
     },
     "metadata": {},
     "output_type": "display_data"
    }
   ],
   "source": [
    "plt.scatter(np.arange(test_spatial_data.shape[0]),\n",
    "            y_head_test- y_test,\n",
    "            s = 3)\n",
    "plt.title('Prediction Error')\n",
    "plt.xlabel('Index of regions')\n",
    "plt.ylabel('Number of OHCA')"
   ]
  },
  {
   "cell_type": "code",
   "execution_count": 31,
   "metadata": {},
   "outputs": [
    {
     "name": "stderr",
     "output_type": "stream",
     "text": [
      "C:\\Users\\Yuan\\AppData\\Local\\Temp\\ipykernel_15664\\2933142730.py:2: RuntimeWarning: divide by zero encountered in divide\n",
      "  (y_head_test- y_test)/test_spatial_data[:, -1].reshape(-1, 1)/ohca_reguli_inverse,\n"
     ]
    },
    {
     "data": {
      "text/plain": [
       "Text(0, 0.5, 'Number of OHCA')"
      ]
     },
     "execution_count": 31,
     "metadata": {},
     "output_type": "execute_result"
    },
    {
     "data": {
      "image/png": "[encoded data removed]",
      "text/plain": [
       "<Figure size 640x480 with 1 Axes>"
      ]
     },
     "metadata": {},
     "output_type": "display_data"
    }
   ],
   "source": [
    "plt.scatter(np.arange(test_spatial_data.shape[0]),\n",
    "            (y_head_test- y_test)/test_spatial_data[:, -1].reshape(-1, 1)/ohca_reguli_inverse,\n",
    "            s = 3)\n",
    "plt.title('test Prediction Error Precentage')\n",
    "plt.xlabel('Index of regions')\n",
    "plt.ylabel('Number of OHCA')\n"
   ]
  },
  {
   "cell_type": "code",
   "execution_count": 32,
   "metadata": {},
   "outputs": [
    {
     "name": "stdout",
     "output_type": "stream",
     "text": [
      "MAE of test set=  5.895806528786395\n",
      "R² of test set=  0.6941427921814869\n"
     ]
    }
   ],
   "source": [
    "# mape_list = (y_head_test-y_test)/(test_spatial_data[:, -1].reshape(-1, 1)*h3_l7_df.ohca.max()+1)\n",
    "\n",
    "# mape = mape_list[mape_list != np.inf].sum()/mape_list.shape[0]\n",
    "\n",
    "mae = np.abs(y_head_test-y_test)\n",
    "ans_mae = mae.sum()/mae.shape[0]\n",
    "\n",
    "print('MAE of test set= ',ans_mae)\n",
    "\n",
    "# 計算殘差變異\n",
    "ss_residual = np.sum((y_test - y_head_test) ** 2)\n",
    "\n",
    "# 計算總變異量\n",
    "ss_total = np.sum((y_test - np.mean(y_test)) ** 2)\n",
    "\n",
    "# 計算 R²\n",
    "r_squared = 1 - (ss_residual / ss_total)\n",
    "\n",
    "n = mae.shape[0]          # Number of data points\n",
    "p = train_spatial_data.shape[1]            # Number of predictors\n",
    "print(\"R² of test set= \", r_squared)\n",
    "\n",
    "# # Adjusted R-squared calculation\n",
    "# r_squared_adj = 1 - (1 - r_squared) * (n - 1) / (n - p - 1)\n",
    "# print(\"ADJ R² of test set= \", r_squared_adj)"
   ]
  },
  {
   "cell_type": "code",
   "execution_count": 33,
   "metadata": {},
   "outputs": [
    {
     "name": "stdout",
     "output_type": "stream",
     "text": [
      "MAE of train set=  0.42463025666144955\n",
      "R² of train set=  0.9976674692654932\n"
     ]
    }
   ],
   "source": [
    "mae = np.abs(y_head_train-y_train)\n",
    "ans_mae = mae.sum()/mae.shape[0]\n",
    "\n",
    "print('MAE of train set= ',ans_mae)\n",
    "\n",
    "# 計算殘差變異\n",
    "ss_residual = np.sum((y_train - y_head_train) ** 2)\n",
    "\n",
    "# 計算總變異量\n",
    "ss_total = np.sum((y_train - np.mean(y_train)) ** 2)\n",
    "\n",
    "# 計算 R²\n",
    "r_squared = 1 - (ss_residual / ss_total)\n",
    "\n",
    "n = mae.shape[0]          # Number of data points\n",
    "p = train_spatial_data.shape[1]            # Number of predictors\n",
    "print(\"R² of train set= \", r_squared)\n",
    "\n",
    "# # Adjusted R-squared calculation\n",
    "# r_squared_adj = 1 - (1 - r_squared) * (n - 1) / (n - p - 1)\n",
    "# print(\"ADJ R² of test set= \", r_squared_adj)"
   ]
  }
 ],
 "metadata": {
  "kernelspec": {
   "display_name": "base",
   "language": "python",
   "name": "python3"
  },
  "language_info": {
   "codemirror_mode": {
    "name": "ipython",
    "version": 3
   },
   "file_extension": ".py",
   "mimetype": "text/x-python",
   "name": "python",
   "nbconvert_exporter": "python",
   "pygments_lexer": "ipython3",
   "version": "3.12.3"
  }
 },
 "nbformat": 4,
 "nbformat_minor": 2
}
