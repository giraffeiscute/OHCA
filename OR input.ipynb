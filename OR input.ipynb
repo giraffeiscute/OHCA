{
 "cells": [
  {
   "cell_type": "code",
   "execution_count": 1,
   "metadata": {},
   "outputs": [],
   "source": [
    "import pandas as pd\n",
    "import numpy as np\n",
    "import h3\n",
    "\n",
    "# 讀取 CSV 檔案\n",
    "test_poi_df = pd.read_csv('test_poi_df.csv')"
   ]
  },
  {
   "cell_type": "code",
   "execution_count": 2,
   "metadata": {},
   "outputs": [],
   "source": [
    "import math\n",
    "\n",
    "#緯度（latitude） 經度（longitude）\n",
    "def haversine(lat1, lon1, lat2, lon2):\n",
    "    # 將經緯度轉換為弧度\n",
    "    lat1, lon1, lat2, lon2 = map(math.radians, [lat1, lon1, lat2, lon2])\n",
    "    \n",
    "    # 計算差異\n",
    "    dlat = lat2 - lat1\n",
    "    dlon = lon2 - lon1\n",
    "    \n",
    "    # 哈弗辛公式\n",
    "    a = math.sin(dlat / 2)**2 + math.cos(lat1) * math.cos(lat2) * math.sin(dlon / 2)**2\n",
    "    c = 2 * math.atan2(math.sqrt(a), math.sqrt(1 - a))\n",
    "    \n",
    "    # 地球半徑（公里）\n",
    "    R = 6371.0\n",
    "    \n",
    "    # 計算距離\n",
    "    distance = R * c #單位為km\n",
    "    return distance \n",
    "\n",
    "\n",
    "def intersection_area(r1, r2, d):\n",
    "    if d >= r1 + r2:\n",
    "        return 0  # 兩圓不相交\n",
    "    elif d <= abs(r1 - r2):\n",
    "        return np.pi * min(r1, r2)**2  # 一圓包含另一圓\n",
    "    else:\n",
    "        # 使用公式計算相交面積\n",
    "        term1 = r1**2 * np.arccos((d**2 + r1**2 - r2**2) / (2 * d * r1))\n",
    "        term2 = r2**2 * np.arccos((d**2 + r2**2 - r1**2) / (2 * d * r2))\n",
    "        term3 = 0.5 * np.sqrt((-d + r1 + r2) * (d + r1 - r2) * (d - r1 + r2) * (d + r1 + r2))\n",
    "        return term1 + term2 - term3\n",
    "\n",
    "def area_score(AED_location, AED_range):\n",
    "    score_list = []\n",
    "    center_radius = 1.21  # 根據 H3 Level 7 的網格大小進行調整\n",
    "    for i in range(0, test_poi_df.shape[0]):\n",
    "        distance = haversine(AED_location[0], AED_location[1], test_poi_df.iloc[i]['lat'], test_poi_df.iloc[i]['lon'])\n",
    "        \n",
    "        # 如果 POI 在 AED 範圍外，跳過該 POI\n",
    "        if distance > AED_range or test_poi_df.iloc[i]['score'] ==None:\n",
    "            continue\n",
    "        else:\n",
    "            # 將 H3 網格編碼轉換為經緯度\n",
    "            L7_center = h3.h3_to_geo(test_poi_df.iloc[i]['h3_l7'])\n",
    "            center_distance = haversine(AED_location[0], AED_location[1], L7_center[0], L7_center[1])\n",
    "            \n",
    "            # 計算重疊面積的比例\n",
    "            intersection_area_value = intersection_area(AED_range, center_radius, center_distance)\n",
    "            proportion = intersection_area_value / ((center_radius ** 2) * np.pi)\n",
    "            # 根據比例計算加權分數\n",
    "            Score = test_poi_df.iloc[i]['score'] * proportion\n",
    "            score_list.append(Score) #分數列表，方便後續處理\n",
    "    \n",
    "    return sum(score_list)  # 返回分數列表總和"
   ]
  },
  {
   "cell_type": "code",
   "execution_count": 6,
   "metadata": {},
   "outputs": [
    {
     "data": {
      "text/plain": [
       "3150.771749670638"
      ]
     },
     "execution_count": 6,
     "metadata": {},
     "output_type": "execute_result"
    }
   ],
   "source": [
    "area_score((36.906, -76.141),1)"
   ]
  }
 ],
 "metadata": {
  "kernelspec": {
   "display_name": "base",
   "language": "python",
   "name": "python3"
  },
  "language_info": {
   "codemirror_mode": {
    "name": "ipython",
    "version": 3
   },
   "file_extension": ".py",
   "mimetype": "text/x-python",
   "name": "python",
   "nbconvert_exporter": "python",
   "pygments_lexer": "ipython3",
   "version": "3.12.3"
  }
 },
 "nbformat": 4,
 "nbformat_minor": 2
}
